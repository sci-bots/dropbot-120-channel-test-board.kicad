{
 "cells": [
  {
   "cell_type": "code",
   "execution_count": 1,
   "id": "1eabbf60-ad42-4401-88c4-5c7717d02a0d",
   "metadata": {},
   "outputs": [],
   "source": [
    "import os\n",
    "\n",
    "from kicad_helpers import get_schematic_path, get_bom_path, get_project_name\n",
    "from kicad_helpers.test import test_erc, test_drc, validate_bom"
   ]
  },
  {
   "cell_type": "code",
   "execution_count": 2,
   "id": "4570fe70-5993-4a18-95b0-bac49bd0bd21",
   "metadata": {},
   "outputs": [],
   "source": [
    "assert os.path.exists(get_schematic_path()) # Check that schematic exists\n",
    "assert os.path.exists(get_bom_path()) # Check that the BOM exists\n",
    "assert \" \" not in get_project_name() # Check that there are no spaces in the project name"
   ]
  },
  {
   "cell_type": "code",
   "execution_count": 3,
   "id": "aa6e5d5a-3204-4b34-81fe-533906636dcb",
   "metadata": {},
   "outputs": [
    {
     "name": "stdout",
     "output_type": "stream",
     "text": [
      "WARNING:(W008) Unable to find KiCad configuration file (/home/docker/.config/kicad/kicad_common) (kibot.kibot.kicad.config - log.py:82)\n",
      "WARNING:(W011) Missing default symbol library table (kibot.kibot.kicad.config - log.py:82)\n",
      "- Running the ERC\n",
      "WARNING:(W058) Missing KiCad main config file /home/docker/.config/kicad/kicad_common (eeschema_do - misc.py:169) (kibot.kibot.kiplot - log.py:82)\n",
      "ERROR:1 ERC errors detected (eeschema_do - eeschema_do:631) (kibot.kibot.kiplot - kiplot.py:145)\n",
      "ERROR:(8) Global label not connected to any other global label\n",
      "    @(58.42 mm, 33.02 mm): Global label CUR_SENSE is not connected to any other global label. (eeschema_do.kiauto.file_util - file_util.py:128) (kibot.kibot.kiplot - kiplot.py:145)\n",
      "ERROR:ERC errors: 1 (kibot.kibot.pre_erc - pre_erc.py:63)\n",
      "\n",
      "returncode = 10\n"
     ]
    },
    {
     "ename": "AssertionError",
     "evalue": "",
     "output_type": "error",
     "traceback": [
      "\u001b[0;31m---------------------------------------------------------------------------\u001b[0m",
      "\u001b[0;31mAssertionError\u001b[0m                            Traceback (most recent call last)",
      "\u001b[0;32m/tmp/ipykernel_29095/1999007752.py\u001b[0m in \u001b[0;36m<module>\u001b[0;34m\u001b[0m\n\u001b[0;32m----> 1\u001b[0;31m \u001b[0mtest_erc\u001b[0m\u001b[0;34m(\u001b[0m\u001b[0;34m)\u001b[0m\u001b[0;34m\u001b[0m\u001b[0;34m\u001b[0m\u001b[0m\n\u001b[0m",
      "\u001b[0;32m~/dev/python/kicad-helpers/kicad_helpers/test.py\u001b[0m in \u001b[0;36mtest_erc\u001b[0;34m(root)\u001b[0m\n\u001b[1;32m     28\u001b[0m     \u001b[0;32mif\u001b[0m \u001b[0mos\u001b[0m\u001b[0;34m.\u001b[0m\u001b[0mpath\u001b[0m\u001b[0;34m.\u001b[0m\u001b[0mexists\u001b[0m\u001b[0;34m(\u001b[0m\u001b[0merc_path\u001b[0m\u001b[0;34m)\u001b[0m\u001b[0;34m:\u001b[0m\u001b[0;34m\u001b[0m\u001b[0;34m\u001b[0m\u001b[0m\n\u001b[1;32m     29\u001b[0m         \u001b[0mos\u001b[0m\u001b[0;34m.\u001b[0m\u001b[0mremove\u001b[0m\u001b[0;34m(\u001b[0m\u001b[0merc_path\u001b[0m\u001b[0;34m)\u001b[0m\u001b[0;34m\u001b[0m\u001b[0;34m\u001b[0m\u001b[0m\n\u001b[0;32m---> 30\u001b[0;31m     \u001b[0;32massert\u001b[0m \u001b[0mreturncode\u001b[0m \u001b[0;34m==\u001b[0m \u001b[0;36m0\u001b[0m\u001b[0;34m\u001b[0m\u001b[0;34m\u001b[0m\u001b[0m\n\u001b[0m\u001b[1;32m     31\u001b[0m \u001b[0;34m\u001b[0m\u001b[0m\n\u001b[1;32m     32\u001b[0m \u001b[0;31m# Cell\u001b[0m\u001b[0;34m\u001b[0m\u001b[0;34m\u001b[0m\u001b[0m\n",
      "\u001b[0;31mAssertionError\u001b[0m: "
     ]
    }
   ],
   "source": [
    "test_erc()"
   ]
  },
  {
   "cell_type": "code",
   "execution_count": 7,
   "id": "9dec90da-a917-43f4-9796-db471a368693",
   "metadata": {},
   "outputs": [],
   "source": [
    "test_drc()"
   ]
  },
  {
   "cell_type": "code",
   "execution_count": 6,
   "id": "905e4504-d4f9-418c-8dda-c7227ba5401f",
   "metadata": {},
   "outputs": [
    {
     "data": {
      "text/html": [
       "<div>\n",
       "<style scoped>\n",
       "    .dataframe tbody tr th:only-of-type {\n",
       "        vertical-align: middle;\n",
       "    }\n",
       "\n",
       "    .dataframe tbody tr th {\n",
       "        vertical-align: top;\n",
       "    }\n",
       "\n",
       "    .dataframe thead th {\n",
       "        text-align: right;\n",
       "    }\n",
       "</style>\n",
       "<table border=\"1\" class=\"dataframe\">\n",
       "  <thead>\n",
       "    <tr style=\"text-align: right;\">\n",
       "      <th></th>\n",
       "      <th>Refs</th>\n",
       "      <th>Quantity</th>\n",
       "      <th>MPN</th>\n",
       "      <th>Manufacturer</th>\n",
       "      <th>datasheet</th>\n",
       "      <th>footprint</th>\n",
       "      <th>value</th>\n",
       "    </tr>\n",
       "  </thead>\n",
       "  <tbody>\n",
       "    <tr>\n",
       "      <th>0</th>\n",
       "      <td>C1-C120</td>\n",
       "      <td>120</td>\n",
       "      <td>CC1206JKNPOCBN100</td>\n",
       "      <td>YAGEO</td>\n",
       "      <td>~</td>\n",
       "      <td>Capacitors_SMD:C_1206</td>\n",
       "      <td>C</td>\n",
       "    </tr>\n",
       "    <tr>\n",
       "      <th>1</th>\n",
       "      <td>P1-P120, P122-P137</td>\n",
       "      <td>136</td>\n",
       "      <td>DNP</td>\n",
       "      <td>DNP</td>\n",
       "      <td>NaN</td>\n",
       "      <td>Sci-Bots:1.9mm_DMF_Electrode</td>\n",
       "      <td>CONN_01X01</td>\n",
       "    </tr>\n",
       "    <tr>\n",
       "      <th>2</th>\n",
       "      <td>P121, P138</td>\n",
       "      <td>2</td>\n",
       "      <td>DNP</td>\n",
       "      <td>DNP</td>\n",
       "      <td>NaN</td>\n",
       "      <td>Pin_Headers:Pin_Header_Straight_1x01_Pitch2.54mm</td>\n",
       "      <td>CONN_01X01</td>\n",
       "    </tr>\n",
       "  </tbody>\n",
       "</table>\n",
       "</div>"
      ],
      "text/plain": [
       "                 Refs  Quantity                MPN Manufacturer datasheet  \\\n",
       "0             C1-C120       120  CC1206JKNPOCBN100        YAGEO         ~   \n",
       "1  P1-P120, P122-P137       136                DNP          DNP       NaN   \n",
       "2          P121, P138         2                DNP          DNP       NaN   \n",
       "\n",
       "                                          footprint       value  \n",
       "0                             Capacitors_SMD:C_1206           C  \n",
       "1                      Sci-Bots:1.9mm_DMF_Electrode  CONN_01X01  \n",
       "2  Pin_Headers:Pin_Header_Straight_1x01_Pitch2.54mm  CONN_01X01  "
      ]
     },
     "execution_count": 6,
     "metadata": {},
     "output_type": "execute_result"
    }
   ],
   "source": [
    "validate_bom()"
   ]
  },
  {
   "cell_type": "code",
   "execution_count": null,
   "id": "b043f38d-d21a-4c9c-8fd1-7a86e39bd342",
   "metadata": {},
   "outputs": [],
   "source": []
  }
 ],
 "metadata": {
  "kernelspec": {
   "display_name": "Python 3 (ipykernel)",
   "language": "python",
   "name": "python3"
  },
  "language_info": {
   "codemirror_mode": {
    "name": "ipython",
    "version": 3
   },
   "file_extension": ".py",
   "mimetype": "text/x-python",
   "name": "python",
   "nbconvert_exporter": "python",
   "pygments_lexer": "ipython3",
   "version": "3.9.7"
  }
 },
 "nbformat": 4,
 "nbformat_minor": 5
}
